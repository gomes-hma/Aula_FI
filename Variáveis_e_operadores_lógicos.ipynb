{
  "nbformat": 4,
  "nbformat_minor": 0,
  "metadata": {
    "colab": {
      "provenance": [],
      "authorship_tag": "ABX9TyMg+rY+X3A644iULtDrPecn",
      "include_colab_link": true
    },
    "kernelspec": {
      "name": "python3",
      "display_name": "Python 3"
    },
    "language_info": {
      "name": "python"
    }
  },
  "cells": [
    {
      "cell_type": "markdown",
      "metadata": {
        "id": "view-in-github",
        "colab_type": "text"
      },
      "source": [
        "<a href=\"https://colab.research.google.com/github/gomes-hma/Aula_FI/blob/main/Vari%C3%A1veis_e_operadores_l%C3%B3gicos.ipynb\" target=\"_parent\"><img src=\"https://colab.research.google.com/assets/colab-badge.svg\" alt=\"Open In Colab\"/></a>"
      ]
    },
    {
      "cell_type": "code",
      "execution_count": 20,
      "metadata": {
        "colab": {
          "base_uri": "https://localhost:8080/"
        },
        "id": "S_86pyN5VSM1",
        "outputId": "eac9f707-c443-4bed-d294-7bf28d5a0d89"
      },
      "outputs": [
        {
          "output_type": "stream",
          "name": "stdout",
          "text": [
            "definir o primeiro valor:3.6\n",
            "definir segundo valor2:9.9\n",
            "a média do aluno é igual a  6.75\n"
          ]
        }
      ],
      "source": [
        "#calcular\n",
        "\n",
        "##entrada\n",
        "\n",
        "p1 = float (input('definir o primeiro valor:'))\n",
        "p2 = float (input('definir segundo valor2:'))\n",
        "\n",
        "\n",
        "#processamento\n",
        "\n",
        "soma = (p1 + p2)/2\n",
        "\n",
        "#saída\n",
        "\n",
        "print('a média do aluno é igual a ' , soma)\n"
      ]
    },
    {
      "cell_type": "code",
      "source": [
        "\n",
        "#calcular\n",
        "\n",
        "##entrada\n",
        "\n",
        "c1 = float (input('definir o primeiro valor: '))\n",
        "\n",
        "#processamento\n",
        "\n",
        "farenheit = (c1 * 1.8) + 32\n",
        "\n",
        "#saída\n",
        "\n",
        "print('a conversão de celsius para farenheit fica ' , farenheit)"
      ],
      "metadata": {
        "colab": {
          "base_uri": "https://localhost:8080/"
        },
        "id": "CNGWeZlEbL4Z",
        "outputId": "e33b90ba-913e-4aa6-8ddd-0abb9c1a4c94"
      },
      "execution_count": 31,
      "outputs": [
        {
          "output_type": "stream",
          "name": "stdout",
          "text": [
            "definir o primeiro valor: -273.15\n",
            "a conversão de celsius paa farenheit fica  -459.66999999999996\n"
          ]
        }
      ]
    },
    {
      "cell_type": "code",
      "source": [
        "#calcular\n",
        "\n",
        "##entrada\n",
        "\n",
        "f1 = float (input('definir o primeiro valor :'))\n",
        "\n",
        "#processamento\n",
        "\n",
        "celsius = (f1 - 32)/1.8\n",
        "\n",
        "#saída\n",
        "print('a conversão de farenheit para celsius fica ' , celsius)"
      ],
      "metadata": {
        "colab": {
          "base_uri": "https://localhost:8080/"
        },
        "id": "EELzVQdedxwT",
        "outputId": "32d100c7-2fdb-446d-d2cc-37673aebcca7"
      },
      "execution_count": 34,
      "outputs": [
        {
          "output_type": "stream",
          "name": "stdout",
          "text": [
            "definir o primeiro valor :77\n",
            "a conversão de farenheit para celsius fica  25.0\n"
          ]
        }
      ]
    },
    {
      "cell_type": "code",
      "source": [
        "#calcular\n",
        "\n",
        "##entrada\n",
        "\n",
        "peça = float(input('digite o valor da peça'))\n",
        "valor = float(input('digite a quantidade de peça'))\n",
        "\n",
        "\n",
        "#processamento\n",
        "\n",
        "TOTAL = peça * valor\n",
        "\n",
        "\n",
        "#saída\n",
        "\n",
        "print('o valor total é de ' , TOTAL)\n",
        "\n",
        "\n",
        "\n"
      ],
      "metadata": {
        "colab": {
          "base_uri": "https://localhost:8080/"
        },
        "id": "uZvc2zW2jwEp",
        "outputId": "1d84f80e-addc-44ba-a60c-029cc1d59251"
      },
      "execution_count": 40,
      "outputs": [
        {
          "output_type": "stream",
          "name": "stdout",
          "text": [
            "digite o valor da peça999999999999999999999999999999999999999999999999999999999999999999999999999\n",
            "digite a quantidade de peça99999999999999999999999999999999999999999999999999999999999999999999999999999999999999999999999\n",
            "o valor total é de  9.999999999999999e+169\n"
          ]
        }
      ]
    },
    {
      "cell_type": "code",
      "source": [
        "#calcule\n",
        "\n",
        "##entrada\n",
        "\n",
        "ma = float(input('digite o valor máximo : ' ))\n",
        "mi = float(input('digite o valor mínimo : ' ))\n",
        "\n",
        "#processamento\n",
        "\n"
      ],
      "metadata": {
        "id": "lCLLnO1hmbhd"
      },
      "execution_count": null,
      "outputs": []
    }
  ]
}